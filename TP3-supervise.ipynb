{
 "cells": [
  {
   "cell_type": "code",
   "execution_count": 1,
   "metadata": {},
   "outputs": [],
   "source": [
    "from sklearn.datasets import fetch_openml \n",
    "mnist = fetch_openml('mnist_784', as_frame=False)"
   ]
  },
  {
   "cell_type": "code",
   "execution_count": 2,
   "metadata": {},
   "outputs": [],
   "source": [
    "import sklearn.model_selection as ms\n",
    "xtrain,  xtest,  ytrain,  ytest  =  ms.train_test_split(mnist.data,  mnist.target, \n",
    "train_size=0.7) "
   ]
  },
  {
   "cell_type": "code",
   "execution_count": 5,
   "metadata": {
    "scrolled": true
   },
   "outputs": [
    {
     "data": {
      "text/plain": [
       "SVC()"
      ]
     },
     "execution_count": 5,
     "metadata": {},
     "output_type": "execute_result"
    }
   ],
   "source": [
    "from sklearn.svm import SVC\n",
    "clf = SVC()\n",
    "clf.fit(xtrain, ytrain)"
   ]
  },
  {
   "cell_type": "code",
   "execution_count": null,
   "metadata": {
    "scrolled": true
   },
   "outputs": [],
   "source": [
    "predicted=clf.predict(xtest)\n",
    "print(\"score test: \", clf.score(xtest, ytest))\n",
    "print(\"score train : \", clf.score(xtrain, ytrain))"
   ]
  },
  {
   "cell_type": "code",
   "execution_count": null,
   "metadata": {},
   "outputs": [],
   "source": [
    "clsvm = SVC(kernel=’linear’)\n",
    "clf.fit(xtrain, ytrain)\n",
    "print(\"score test: \", clf.score(xtest, ytest))\n",
    "print(\"score train : \", clf.score(xtrain, ytrain))"
   ]
  },
  {
   "cell_type": "code",
   "execution_count": null,
   "metadata": {},
   "outputs": [],
   "source": [
    "clsvm = SVC(kernel=’poly’)\n",
    "clf.fit(xtrain, ytrain)\n",
    "print(\"score test: \", clf.score(xtest, ytest))\n",
    "print(\"score train : \", clf.score(xtrain, ytrain))"
   ]
  },
  {
   "cell_type": "code",
   "execution_count": null,
   "metadata": {},
   "outputs": [],
   "source": [
    "clsvm = SVC(kernel=’rbf’)\n",
    "clf.fit(xtrain, ytrain)\n",
    "print(\"score test: \", clf.score(xtest, ytest))\n",
    "print(\"score train : \", clf.score(xtrain, ytrain))"
   ]
  },
  {
   "cell_type": "code",
   "execution_count": null,
   "metadata": {},
   "outputs": [],
   "source": [
    "clsvm = SVC(kernel=’sigmoid’)\n",
    "clf.fit(xtrain, ytrain)\n",
    "print(\"score test: \", clf.score(xtest, ytest))\n",
    "print(\"score train : \", clf.score(xtrain, ytrain))"
   ]
  },
  {
   "cell_type": "code",
   "execution_count": null,
   "metadata": {},
   "outputs": [],
   "source": [
    "clsvm = SVC(kernel=’precomputed’)\n",
    "clf.fit(xtrain, ytrain)\n",
    "print(\"score test: \", clf.score(xtest, ytest))\n",
    "print(\"score train : \", clf.score(xtrain, ytrain))"
   ]
  },
  {
   "cell_type": "code",
   "execution_count": null,
   "metadata": {},
   "outputs": [],
   "source": [
    "clsvm = SVC(kernel=’precomputed’)\n",
    "clf.fit(xtrain, ytrain)\n",
    "print(\"score test: \", clf.score(xtest, ytest))\n",
    "print(\"score train : \", clf.score(xtrain, ytrain))"
   ]
  }
 ],
 "metadata": {
  "kernelspec": {
   "display_name": "Python 3",
   "language": "python",
   "name": "python3"
  },
  "language_info": {
   "codemirror_mode": {
    "name": "ipython",
    "version": 3
   },
   "file_extension": ".py",
   "mimetype": "text/x-python",
   "name": "python",
   "nbconvert_exporter": "python",
   "pygments_lexer": "ipython3",
   "version": "3.8.5"
  }
 },
 "nbformat": 4,
 "nbformat_minor": 4
}
