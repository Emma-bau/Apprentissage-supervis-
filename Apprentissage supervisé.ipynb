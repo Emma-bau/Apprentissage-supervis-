{
 "cells": [
  {
   "cell_type": "code",
   "execution_count": 6,
   "metadata": {},
   "outputs": [],
   "source": [
    "from sklearn.datasets import fetch_openml \n",
    "mnist = fetch_openml('mnist_784', as_frame=False)\n"
   ]
  },
  {
   "cell_type": "code",
   "execution_count": 3,
   "metadata": {},
   "outputs": [
    {
     "name": "stdout",
     "output_type": "stream",
     "text": [
      "{'data': array([[0., 0., 0., ..., 0., 0., 0.],\n",
      "       [0., 0., 0., ..., 0., 0., 0.],\n",
      "       [0., 0., 0., ..., 0., 0., 0.],\n",
      "       ...,\n",
      "       [0., 0., 0., ..., 0., 0., 0.],\n",
      "       [0., 0., 0., ..., 0., 0., 0.],\n",
      "       [0., 0., 0., ..., 0., 0., 0.]]), 'target': array(['5', '0', '4', ..., '4', '5', '6'], dtype=object), 'frame': None, 'categories': {}, 'feature_names': ['pixel1', 'pixel2', 'pixel3', 'pixel4', 'pixel5', 'pixel6', 'pixel7', 'pixel8', 'pixel9', 'pixel10', 'pixel11', 'pixel12', 'pixel13', 'pixel14', 'pixel15', 'pixel16', 'pixel17', 'pixel18', 'pixel19', 'pixel20', 'pixel21', 'pixel22', 'pixel23', 'pixel24', 'pixel25', 'pixel26', 'pixel27', 'pixel28', 'pixel29', 'pixel30', 'pixel31', 'pixel32', 'pixel33', 'pixel34', 'pixel35', 'pixel36', 'pixel37', 'pixel38', 'pixel39', 'pixel40', 'pixel41', 'pixel42', 'pixel43', 'pixel44', 'pixel45', 'pixel46', 'pixel47', 'pixel48', 'pixel49', 'pixel50', 'pixel51', 'pixel52', 'pixel53', 'pixel54', 'pixel55', 'pixel56', 'pixel57', 'pixel58', 'pixel59', 'pixel60', 'pixel61', 'pixel62', 'pixel63', 'pixel64', 'pixel65', 'pixel66', 'pixel67', 'pixel68', 'pixel69', 'pixel70', 'pixel71', 'pixel72', 'pixel73', 'pixel74', 'pixel75', 'pixel76', 'pixel77', 'pixel78', 'pixel79', 'pixel80', 'pixel81', 'pixel82', 'pixel83', 'pixel84', 'pixel85', 'pixel86', 'pixel87', 'pixel88', 'pixel89', 'pixel90', 'pixel91', 'pixel92', 'pixel93', 'pixel94', 'pixel95', 'pixel96', 'pixel97', 'pixel98', 'pixel99', 'pixel100', 'pixel101', 'pixel102', 'pixel103', 'pixel104', 'pixel105', 'pixel106', 'pixel107', 'pixel108', 'pixel109', 'pixel110', 'pixel111', 'pixel112', 'pixel113', 'pixel114', 'pixel115', 'pixel116', 'pixel117', 'pixel118', 'pixel119', 'pixel120', 'pixel121', 'pixel122', 'pixel123', 'pixel124', 'pixel125', 'pixel126', 'pixel127', 'pixel128', 'pixel129', 'pixel130', 'pixel131', 'pixel132', 'pixel133', 'pixel134', 'pixel135', 'pixel136', 'pixel137', 'pixel138', 'pixel139', 'pixel140', 'pixel141', 'pixel142', 'pixel143', 'pixel144', 'pixel145', 'pixel146', 'pixel147', 'pixel148', 'pixel149', 'pixel150', 'pixel151', 'pixel152', 'pixel153', 'pixel154', 'pixel155', 'pixel156', 'pixel157', 'pixel158', 'pixel159', 'pixel160', 'pixel161', 'pixel162', 'pixel163', 'pixel164', 'pixel165', 'pixel166', 'pixel167', 'pixel168', 'pixel169', 'pixel170', 'pixel171', 'pixel172', 'pixel173', 'pixel174', 'pixel175', 'pixel176', 'pixel177', 'pixel178', 'pixel179', 'pixel180', 'pixel181', 'pixel182', 'pixel183', 'pixel184', 'pixel185', 'pixel186', 'pixel187', 'pixel188', 'pixel189', 'pixel190', 'pixel191', 'pixel192', 'pixel193', 'pixel194', 'pixel195', 'pixel196', 'pixel197', 'pixel198', 'pixel199', 'pixel200', 'pixel201', 'pixel202', 'pixel203', 'pixel204', 'pixel205', 'pixel206', 'pixel207', 'pixel208', 'pixel209', 'pixel210', 'pixel211', 'pixel212', 'pixel213', 'pixel214', 'pixel215', 'pixel216', 'pixel217', 'pixel218', 'pixel219', 'pixel220', 'pixel221', 'pixel222', 'pixel223', 'pixel224', 'pixel225', 'pixel226', 'pixel227', 'pixel228', 'pixel229', 'pixel230', 'pixel231', 'pixel232', 'pixel233', 'pixel234', 'pixel235', 'pixel236', 'pixel237', 'pixel238', 'pixel239', 'pixel240', 'pixel241', 'pixel242', 'pixel243', 'pixel244', 'pixel245', 'pixel246', 'pixel247', 'pixel248', 'pixel249', 'pixel250', 'pixel251', 'pixel252', 'pixel253', 'pixel254', 'pixel255', 'pixel256', 'pixel257', 'pixel258', 'pixel259', 'pixel260', 'pixel261', 'pixel262', 'pixel263', 'pixel264', 'pixel265', 'pixel266', 'pixel267', 'pixel268', 'pixel269', 'pixel270', 'pixel271', 'pixel272', 'pixel273', 'pixel274', 'pixel275', 'pixel276', 'pixel277', 'pixel278', 'pixel279', 'pixel280', 'pixel281', 'pixel282', 'pixel283', 'pixel284', 'pixel285', 'pixel286', 'pixel287', 'pixel288', 'pixel289', 'pixel290', 'pixel291', 'pixel292', 'pixel293', 'pixel294', 'pixel295', 'pixel296', 'pixel297', 'pixel298', 'pixel299', 'pixel300', 'pixel301', 'pixel302', 'pixel303', 'pixel304', 'pixel305', 'pixel306', 'pixel307', 'pixel308', 'pixel309', 'pixel310', 'pixel311', 'pixel312', 'pixel313', 'pixel314', 'pixel315', 'pixel316', 'pixel317', 'pixel318', 'pixel319', 'pixel320', 'pixel321', 'pixel322', 'pixel323', 'pixel324', 'pixel325', 'pixel326', 'pixel327', 'pixel328', 'pixel329', 'pixel330', 'pixel331', 'pixel332', 'pixel333', 'pixel334', 'pixel335', 'pixel336', 'pixel337', 'pixel338', 'pixel339', 'pixel340', 'pixel341', 'pixel342', 'pixel343', 'pixel344', 'pixel345', 'pixel346', 'pixel347', 'pixel348', 'pixel349', 'pixel350', 'pixel351', 'pixel352', 'pixel353', 'pixel354', 'pixel355', 'pixel356', 'pixel357', 'pixel358', 'pixel359', 'pixel360', 'pixel361', 'pixel362', 'pixel363', 'pixel364', 'pixel365', 'pixel366', 'pixel367', 'pixel368', 'pixel369', 'pixel370', 'pixel371', 'pixel372', 'pixel373', 'pixel374', 'pixel375', 'pixel376', 'pixel377', 'pixel378', 'pixel379', 'pixel380', 'pixel381', 'pixel382', 'pixel383', 'pixel384', 'pixel385', 'pixel386', 'pixel387', 'pixel388', 'pixel389', 'pixel390', 'pixel391', 'pixel392', 'pixel393', 'pixel394', 'pixel395', 'pixel396', 'pixel397', 'pixel398', 'pixel399', 'pixel400', 'pixel401', 'pixel402', 'pixel403', 'pixel404', 'pixel405', 'pixel406', 'pixel407', 'pixel408', 'pixel409', 'pixel410', 'pixel411', 'pixel412', 'pixel413', 'pixel414', 'pixel415', 'pixel416', 'pixel417', 'pixel418', 'pixel419', 'pixel420', 'pixel421', 'pixel422', 'pixel423', 'pixel424', 'pixel425', 'pixel426', 'pixel427', 'pixel428', 'pixel429', 'pixel430', 'pixel431', 'pixel432', 'pixel433', 'pixel434', 'pixel435', 'pixel436', 'pixel437', 'pixel438', 'pixel439', 'pixel440', 'pixel441', 'pixel442', 'pixel443', 'pixel444', 'pixel445', 'pixel446', 'pixel447', 'pixel448', 'pixel449', 'pixel450', 'pixel451', 'pixel452', 'pixel453', 'pixel454', 'pixel455', 'pixel456', 'pixel457', 'pixel458', 'pixel459', 'pixel460', 'pixel461', 'pixel462', 'pixel463', 'pixel464', 'pixel465', 'pixel466', 'pixel467', 'pixel468', 'pixel469', 'pixel470', 'pixel471', 'pixel472', 'pixel473', 'pixel474', 'pixel475', 'pixel476', 'pixel477', 'pixel478', 'pixel479', 'pixel480', 'pixel481', 'pixel482', 'pixel483', 'pixel484', 'pixel485', 'pixel486', 'pixel487', 'pixel488', 'pixel489', 'pixel490', 'pixel491', 'pixel492', 'pixel493', 'pixel494', 'pixel495', 'pixel496', 'pixel497', 'pixel498', 'pixel499', 'pixel500', 'pixel501', 'pixel502', 'pixel503', 'pixel504', 'pixel505', 'pixel506', 'pixel507', 'pixel508', 'pixel509', 'pixel510', 'pixel511', 'pixel512', 'pixel513', 'pixel514', 'pixel515', 'pixel516', 'pixel517', 'pixel518', 'pixel519', 'pixel520', 'pixel521', 'pixel522', 'pixel523', 'pixel524', 'pixel525', 'pixel526', 'pixel527', 'pixel528', 'pixel529', 'pixel530', 'pixel531', 'pixel532', 'pixel533', 'pixel534', 'pixel535', 'pixel536', 'pixel537', 'pixel538', 'pixel539', 'pixel540', 'pixel541', 'pixel542', 'pixel543', 'pixel544', 'pixel545', 'pixel546', 'pixel547', 'pixel548', 'pixel549', 'pixel550', 'pixel551', 'pixel552', 'pixel553', 'pixel554', 'pixel555', 'pixel556', 'pixel557', 'pixel558', 'pixel559', 'pixel560', 'pixel561', 'pixel562', 'pixel563', 'pixel564', 'pixel565', 'pixel566', 'pixel567', 'pixel568', 'pixel569', 'pixel570', 'pixel571', 'pixel572', 'pixel573', 'pixel574', 'pixel575', 'pixel576', 'pixel577', 'pixel578', 'pixel579', 'pixel580', 'pixel581', 'pixel582', 'pixel583', 'pixel584', 'pixel585', 'pixel586', 'pixel587', 'pixel588', 'pixel589', 'pixel590', 'pixel591', 'pixel592', 'pixel593', 'pixel594', 'pixel595', 'pixel596', 'pixel597', 'pixel598', 'pixel599', 'pixel600', 'pixel601', 'pixel602', 'pixel603', 'pixel604', 'pixel605', 'pixel606', 'pixel607', 'pixel608', 'pixel609', 'pixel610', 'pixel611', 'pixel612', 'pixel613', 'pixel614', 'pixel615', 'pixel616', 'pixel617', 'pixel618', 'pixel619', 'pixel620', 'pixel621', 'pixel622', 'pixel623', 'pixel624', 'pixel625', 'pixel626', 'pixel627', 'pixel628', 'pixel629', 'pixel630', 'pixel631', 'pixel632', 'pixel633', 'pixel634', 'pixel635', 'pixel636', 'pixel637', 'pixel638', 'pixel639', 'pixel640', 'pixel641', 'pixel642', 'pixel643', 'pixel644', 'pixel645', 'pixel646', 'pixel647', 'pixel648', 'pixel649', 'pixel650', 'pixel651', 'pixel652', 'pixel653', 'pixel654', 'pixel655', 'pixel656', 'pixel657', 'pixel658', 'pixel659', 'pixel660', 'pixel661', 'pixel662', 'pixel663', 'pixel664', 'pixel665', 'pixel666', 'pixel667', 'pixel668', 'pixel669', 'pixel670', 'pixel671', 'pixel672', 'pixel673', 'pixel674', 'pixel675', 'pixel676', 'pixel677', 'pixel678', 'pixel679', 'pixel680', 'pixel681', 'pixel682', 'pixel683', 'pixel684', 'pixel685', 'pixel686', 'pixel687', 'pixel688', 'pixel689', 'pixel690', 'pixel691', 'pixel692', 'pixel693', 'pixel694', 'pixel695', 'pixel696', 'pixel697', 'pixel698', 'pixel699', 'pixel700', 'pixel701', 'pixel702', 'pixel703', 'pixel704', 'pixel705', 'pixel706', 'pixel707', 'pixel708', 'pixel709', 'pixel710', 'pixel711', 'pixel712', 'pixel713', 'pixel714', 'pixel715', 'pixel716', 'pixel717', 'pixel718', 'pixel719', 'pixel720', 'pixel721', 'pixel722', 'pixel723', 'pixel724', 'pixel725', 'pixel726', 'pixel727', 'pixel728', 'pixel729', 'pixel730', 'pixel731', 'pixel732', 'pixel733', 'pixel734', 'pixel735', 'pixel736', 'pixel737', 'pixel738', 'pixel739', 'pixel740', 'pixel741', 'pixel742', 'pixel743', 'pixel744', 'pixel745', 'pixel746', 'pixel747', 'pixel748', 'pixel749', 'pixel750', 'pixel751', 'pixel752', 'pixel753', 'pixel754', 'pixel755', 'pixel756', 'pixel757', 'pixel758', 'pixel759', 'pixel760', 'pixel761', 'pixel762', 'pixel763', 'pixel764', 'pixel765', 'pixel766', 'pixel767', 'pixel768', 'pixel769', 'pixel770', 'pixel771', 'pixel772', 'pixel773', 'pixel774', 'pixel775', 'pixel776', 'pixel777', 'pixel778', 'pixel779', 'pixel780', 'pixel781', 'pixel782', 'pixel783', 'pixel784'], 'target_names': ['class'], 'DESCR': \"**Author**: Yann LeCun, Corinna Cortes, Christopher J.C. Burges  \\n**Source**: [MNIST Website](http://yann.lecun.com/exdb/mnist/) - Date unknown  \\n**Please cite**:  \\n\\nThe MNIST database of handwritten digits with 784 features, raw data available at: http://yann.lecun.com/exdb/mnist/. It can be split in a training set of the first 60,000 examples, and a test set of 10,000 examples  \\n\\nIt is a subset of a larger set available from NIST. The digits have been size-normalized and centered in a fixed-size image. It is a good database for people who want to try learning techniques and pattern recognition methods on real-world data while spending minimal efforts on preprocessing and formatting. The original black and white (bilevel) images from NIST were size normalized to fit in a 20x20 pixel box while preserving their aspect ratio. The resulting images contain grey levels as a result of the anti-aliasing technique used by the normalization algorithm. the images were centered in a 28x28 image by computing the center of mass of the pixels, and translating the image so as to position this point at the center of the 28x28 field.  \\n\\nWith some classification methods (particularly template-based methods, such as SVM and K-nearest neighbors), the error rate improves when the digits are centered by bounding box rather than center of mass. If you do this kind of pre-processing, you should report it in your publications. The MNIST database was constructed from NIST's NIST originally designated SD-3 as their training set and SD-1 as their test set. However, SD-3 is much cleaner and easier to recognize than SD-1. The reason for this can be found on the fact that SD-3 was collected among Census Bureau employees, while SD-1 was collected among high-school students. Drawing sensible conclusions from learning experiments requires that the result be independent of the choice of training set and test among the complete set of samples. Therefore it was necessary to build a new database by mixing NIST's datasets.  \\n\\nThe MNIST training set is composed of 30,000 patterns from SD-3 and 30,000 patterns from SD-1. Our test set was composed of 5,000 patterns from SD-3 and 5,000 patterns from SD-1. The 60,000 pattern training set contained examples from approximately 250 writers. We made sure that the sets of writers of the training set and test set were disjoint. SD-1 contains 58,527 digit images written by 500 different writers. In contrast to SD-3, where blocks of data from each writer appeared in sequence, the data in SD-1 is scrambled. Writer identities for SD-1 is available and we used this information to unscramble the writers. We then split SD-1 in two: characters written by the first 250 writers went into our new training set. The remaining 250 writers were placed in our test set. Thus we had two sets with nearly 30,000 examples each. The new training set was completed with enough examples from SD-3, starting at pattern # 0, to make a full set of 60,000 training patterns. Similarly, the new test set was completed with SD-3 examples starting at pattern # 35,000 to make a full set with 60,000 test patterns. Only a subset of 10,000 test images (5,000 from SD-1 and 5,000 from SD-3) is available on this site. The full 60,000 sample training set is available.\\n\\nDownloaded from openml.org.\", 'details': {'id': '554', 'name': 'mnist_784', 'version': '1', 'description_version': '1', 'format': 'ARFF', 'creator': ['Yann LeCun', 'Corinna Cortes', 'Christopher J.C. Burges'], 'upload_date': '2014-09-29T03:28:38', 'language': 'English', 'licence': 'Public', 'url': 'https://www.openml.org/data/v1/download/52667/mnist_784.arff', 'file_id': '52667', 'default_target_attribute': 'class', 'tag': ['AzurePilot', 'OpenML-CC18', 'OpenML100', 'study_1', 'study_123', 'study_41', 'study_99', 'vision'], 'visibility': 'public', 'status': 'active', 'processing_date': '2020-11-20 20:12:09', 'md5_checksum': '0298d579eb1b86163de7723944c7e495'}, 'url': 'https://www.openml.org/d/554'}\n"
     ]
    }
   ],
   "source": [
    "print(mnist)\n"
   ]
  },
  {
   "cell_type": "code",
   "execution_count": 4,
   "metadata": {},
   "outputs": [
    {
     "name": "stdout",
     "output_type": "stream",
     "text": [
      "[[0. 0. 0. ... 0. 0. 0.]\n",
      " [0. 0. 0. ... 0. 0. 0.]\n",
      " [0. 0. 0. ... 0. 0. 0.]\n",
      " ...\n",
      " [0. 0. 0. ... 0. 0. 0.]\n",
      " [0. 0. 0. ... 0. 0. 0.]\n",
      " [0. 0. 0. ... 0. 0. 0.]]\n"
     ]
    }
   ],
   "source": [
    "print (mnist.data) "
   ]
  },
  {
   "cell_type": "code",
   "execution_count": 5,
   "metadata": {},
   "outputs": [
    {
     "name": "stdout",
     "output_type": "stream",
     "text": [
      "['5' '0' '4' ... '4' '5' '6']\n"
     ]
    }
   ],
   "source": [
    "print (mnist.target)"
   ]
  },
  {
   "cell_type": "code",
   "execution_count": 6,
   "metadata": {},
   "outputs": [
    {
     "data": {
      "text/plain": [
       "70000"
      ]
     },
     "execution_count": 6,
     "metadata": {},
     "output_type": "execute_result"
    }
   ],
   "source": [
    "len(mnist.data) "
   ]
  },
  {
   "cell_type": "code",
   "execution_count": 7,
   "metadata": {},
   "outputs": [
    {
     "name": "stdout",
     "output_type": "stream",
     "text": [
      "Help on built-in function len in module builtins:\n",
      "\n",
      "len(obj, /)\n",
      "    Return the number of items in a container.\n",
      "\n"
     ]
    }
   ],
   "source": [
    "help(len)"
   ]
  },
  {
   "cell_type": "code",
   "execution_count": 8,
   "metadata": {},
   "outputs": [
    {
     "name": "stdout",
     "output_type": "stream",
     "text": [
      "(70000, 784)\n"
     ]
    }
   ],
   "source": [
    "print (mnist.data.shape)\n"
   ]
  },
  {
   "cell_type": "code",
   "execution_count": 9,
   "metadata": {},
   "outputs": [
    {
     "name": "stdout",
     "output_type": "stream",
     "text": [
      "(70000,)\n"
     ]
    }
   ],
   "source": [
    "print (mnist.target.shape)"
   ]
  },
  {
   "cell_type": "code",
   "execution_count": 10,
   "metadata": {
    "scrolled": true
   },
   "outputs": [
    {
     "data": {
      "text/plain": [
       "array([  0.,   0.,   0.,   0.,   0.,   0.,   0.,   0.,   0.,   0.,   0.,\n",
       "         0.,   0.,   0.,   0.,   0.,   0.,   0.,   0.,   0.,   0.,   0.,\n",
       "         0.,   0.,   0.,   0.,   0.,   0.,   0.,   0.,   0.,   0.,   0.,\n",
       "         0.,   0.,   0.,   0.,   0.,   0.,   0.,   0.,   0.,   0.,   0.,\n",
       "         0.,   0.,   0.,   0.,   0.,   0.,   0.,   0.,   0.,   0.,   0.,\n",
       "         0.,   0.,   0.,   0.,   0.,   0.,   0.,   0.,   0.,   0.,   0.,\n",
       "         0.,   0.,   0.,   0.,   0.,   0.,   0.,   0.,   0.,   0.,   0.,\n",
       "         0.,   0.,   0.,   0.,   0.,   0.,   0.,   0.,   0.,   0.,   0.,\n",
       "         0.,   0.,   0.,   0.,   0.,   0.,   0.,   0.,   0.,   0.,   0.,\n",
       "         0.,   0.,   0.,   0.,   0.,   0.,   0.,   0.,   0.,   0.,   0.,\n",
       "         0.,   0.,   0.,   0.,   0.,   0.,   0.,   0.,   0.,   0.,   0.,\n",
       "         0.,   0.,   0.,   0.,   0.,   0.,   0.,   0.,   0.,   0.,   0.,\n",
       "         0.,   0.,   0.,   0.,   0.,   0.,   0.,   0.,   0.,   0.,   0.,\n",
       "         0.,   0.,   0.,   0.,   0.,   0.,   0.,   0.,   0.,   3.,  18.,\n",
       "        18.,  18., 126., 136., 175.,  26., 166., 255., 247., 127.,   0.,\n",
       "         0.,   0.,   0.,   0.,   0.,   0.,   0.,   0.,   0.,   0.,   0.,\n",
       "        30.,  36.,  94., 154., 170., 253., 253., 253., 253., 253., 225.,\n",
       "       172., 253., 242., 195.,  64.,   0.,   0.,   0.,   0.,   0.,   0.,\n",
       "         0.,   0.,   0.,   0.,   0.,  49., 238., 253., 253., 253., 253.,\n",
       "       253., 253., 253., 253., 251.,  93.,  82.,  82.,  56.,  39.,   0.,\n",
       "         0.,   0.,   0.,   0.,   0.,   0.,   0.,   0.,   0.,   0.,   0.,\n",
       "        18., 219., 253., 253., 253., 253., 253., 198., 182., 247., 241.,\n",
       "         0.,   0.,   0.,   0.,   0.,   0.,   0.,   0.,   0.,   0.,   0.,\n",
       "         0.,   0.,   0.,   0.,   0.,   0.,   0.,  80., 156., 107., 253.,\n",
       "       253., 205.,  11.,   0.,  43., 154.,   0.,   0.,   0.,   0.,   0.,\n",
       "         0.,   0.,   0.,   0.,   0.,   0.,   0.,   0.,   0.,   0.,   0.,\n",
       "         0.,   0.,   0.,  14.,   1., 154., 253.,  90.,   0.,   0.,   0.,\n",
       "         0.,   0.,   0.,   0.,   0.,   0.,   0.,   0.,   0.,   0.,   0.,\n",
       "         0.,   0.,   0.,   0.,   0.,   0.,   0.,   0.,   0.,   0.,   0.,\n",
       "       139., 253., 190.,   2.,   0.,   0.,   0.,   0.,   0.,   0.,   0.,\n",
       "         0.,   0.,   0.,   0.,   0.,   0.,   0.,   0.,   0.,   0.,   0.,\n",
       "         0.,   0.,   0.,   0.,   0.,   0.,  11., 190., 253.,  70.,   0.,\n",
       "         0.,   0.,   0.,   0.,   0.,   0.,   0.,   0.,   0.,   0.,   0.,\n",
       "         0.,   0.,   0.,   0.,   0.,   0.,   0.,   0.,   0.,   0.,   0.,\n",
       "         0.,   0.,  35., 241., 225., 160., 108.,   1.,   0.,   0.,   0.,\n",
       "         0.,   0.,   0.,   0.,   0.,   0.,   0.,   0.,   0.,   0.,   0.,\n",
       "         0.,   0.,   0.,   0.,   0.,   0.,   0.,   0.,   0.,  81., 240.,\n",
       "       253., 253., 119.,  25.,   0.,   0.,   0.,   0.,   0.,   0.,   0.,\n",
       "         0.,   0.,   0.,   0.,   0.,   0.,   0.,   0.,   0.,   0.,   0.,\n",
       "         0.,   0.,   0.,   0.,   0.,  45., 186., 253., 253., 150.,  27.,\n",
       "         0.,   0.,   0.,   0.,   0.,   0.,   0.,   0.,   0.,   0.,   0.,\n",
       "         0.,   0.,   0.,   0.,   0.,   0.,   0.,   0.,   0.,   0.,   0.,\n",
       "         0.,  16.,  93., 252., 253., 187.,   0.,   0.,   0.,   0.,   0.,\n",
       "         0.,   0.,   0.,   0.,   0.,   0.,   0.,   0.,   0.,   0.,   0.,\n",
       "         0.,   0.,   0.,   0.,   0.,   0.,   0.,   0.,   0., 249., 253.,\n",
       "       249.,  64.,   0.,   0.,   0.,   0.,   0.,   0.,   0.,   0.,   0.,\n",
       "         0.,   0.,   0.,   0.,   0.,   0.,   0.,   0.,   0.,   0.,   0.,\n",
       "         0.,  46., 130., 183., 253., 253., 207.,   2.,   0.,   0.,   0.,\n",
       "         0.,   0.,   0.,   0.,   0.,   0.,   0.,   0.,   0.,   0.,   0.,\n",
       "         0.,   0.,   0.,   0.,   0.,  39., 148., 229., 253., 253., 253.,\n",
       "       250., 182.,   0.,   0.,   0.,   0.,   0.,   0.,   0.,   0.,   0.,\n",
       "         0.,   0.,   0.,   0.,   0.,   0.,   0.,   0.,   0.,  24., 114.,\n",
       "       221., 253., 253., 253., 253., 201.,  78.,   0.,   0.,   0.,   0.,\n",
       "         0.,   0.,   0.,   0.,   0.,   0.,   0.,   0.,   0.,   0.,   0.,\n",
       "         0.,   0.,  23.,  66., 213., 253., 253., 253., 253., 198.,  81.,\n",
       "         2.,   0.,   0.,   0.,   0.,   0.,   0.,   0.,   0.,   0.,   0.,\n",
       "         0.,   0.,   0.,   0.,   0.,   0.,  18., 171., 219., 253., 253.,\n",
       "       253., 253., 195.,  80.,   9.,   0.,   0.,   0.,   0.,   0.,   0.,\n",
       "         0.,   0.,   0.,   0.,   0.,   0.,   0.,   0.,   0.,   0.,  55.,\n",
       "       172., 226., 253., 253., 253., 253., 244., 133.,  11.,   0.,   0.,\n",
       "         0.,   0.,   0.,   0.,   0.,   0.,   0.,   0.,   0.,   0.,   0.,\n",
       "         0.,   0.,   0.,   0.,   0., 136., 253., 253., 253., 212., 135.,\n",
       "       132.,  16.,   0.,   0.,   0.,   0.,   0.,   0.,   0.,   0.,   0.,\n",
       "         0.,   0.,   0.,   0.,   0.,   0.,   0.,   0.,   0.,   0.,   0.,\n",
       "         0.,   0.,   0.,   0.,   0.,   0.,   0.,   0.,   0.,   0.,   0.,\n",
       "         0.,   0.,   0.,   0.,   0.,   0.,   0.,   0.,   0.,   0.,   0.,\n",
       "         0.,   0.,   0.,   0.,   0.,   0.,   0.,   0.,   0.,   0.,   0.,\n",
       "         0.,   0.,   0.,   0.,   0.,   0.,   0.,   0.,   0.,   0.,   0.,\n",
       "         0.,   0.,   0.,   0.,   0.,   0.,   0.,   0.,   0.,   0.,   0.,\n",
       "         0.,   0.,   0.,   0.,   0.,   0.,   0.,   0.,   0.,   0.,   0.,\n",
       "         0.,   0.,   0.,   0.,   0.,   0.,   0.,   0.,   0.,   0.,   0.,\n",
       "         0.,   0.,   0.])"
      ]
     },
     "execution_count": 10,
     "metadata": {},
     "output_type": "execute_result"
    }
   ],
   "source": [
    "mnist.data[0] "
   ]
  },
  {
   "cell_type": "code",
   "execution_count": 12,
   "metadata": {
    "scrolled": true
   },
   "outputs": [
    {
     "data": {
      "text/plain": [
       "0.0"
      ]
     },
     "execution_count": 12,
     "metadata": {},
     "output_type": "execute_result"
    }
   ],
   "source": [
    "mnist.data[0][1] "
   ]
  },
  {
   "cell_type": "code",
   "execution_count": 13,
   "metadata": {},
   "outputs": [
    {
     "data": {
      "text/plain": [
       "array([0., 0., 0., ..., 0., 0., 0.])"
      ]
     },
     "execution_count": 13,
     "metadata": {},
     "output_type": "execute_result"
    }
   ],
   "source": [
    "mnist.data[:,1] "
   ]
  },
  {
   "cell_type": "code",
   "execution_count": 14,
   "metadata": {},
   "outputs": [
    {
     "data": {
      "text/plain": [
       "array([[0., 0., 0., ..., 0., 0., 0.],\n",
       "       [0., 0., 0., ..., 0., 0., 0.],\n",
       "       [0., 0., 0., ..., 0., 0., 0.],\n",
       "       ...,\n",
       "       [0., 0., 0., ..., 0., 0., 0.],\n",
       "       [0., 0., 0., ..., 0., 0., 0.],\n",
       "       [0., 0., 0., ..., 0., 0., 0.]])"
      ]
     },
     "execution_count": 14,
     "metadata": {},
     "output_type": "execute_result"
    }
   ],
   "source": [
    " mnist.data[:100]"
   ]
  },
  {
   "cell_type": "code",
   "execution_count": 2,
   "metadata": {},
   "outputs": [
    {
     "data": {
      "image/png": "[encoded data removed]",
      "text/plain": [
       "<Figure size 432x288 with 1 Axes>"
      ]
     },
     "metadata": {
      "needs_background": "light"
     },
     "output_type": "display_data"
    },
    {
     "name": "stdout",
     "output_type": "stream",
     "text": [
      "\n"
     ]
    }
   ],
   "source": [
    "import matplotlib.pyplot as plt  \n",
    "images = mnist.data.reshape((-1, 28, 28)) \n",
    "plt.imshow(images[69999],cmap=plt.cm.gray_r,interpolation=\"nearest\") \n",
    "plt.show() \n",
    "print()"
   ]
  },
  {
   "cell_type": "code",
   "execution_count": 3,
   "metadata": {},
   "outputs": [
    {
     "name": "stdout",
     "output_type": "stream",
     "text": [
      "[[0. 0. 0. ... 0. 0. 0.]\n",
      " [0. 0. 0. ... 0. 0. 0.]\n",
      " [0. 0. 0. ... 0. 0. 0.]\n",
      " ...\n",
      " [0. 0. 0. ... 0. 0. 0.]\n",
      " [0. 0. 0. ... 0. 0. 0.]\n",
      " [0. 0. 0. ... 0. 0. 0.]] [[0. 0. 0. ... 0. 0. 0.]\n",
      " [0. 0. 0. ... 0. 0. 0.]\n",
      " [0. 0. 0. ... 0. 0. 0.]\n",
      " ...\n",
      " [0. 0. 0. ... 0. 0. 0.]\n",
      " [0. 0. 0. ... 0. 0. 0.]\n",
      " [0. 0. 0. ... 0. 0. 0.]] ['4' '5' '1' ... '6' '6' '3'] ['0' '4' '3' ... '2' '6' '3']\n"
     ]
    }
   ],
   "source": [
    "import sklearn.neighbors as ng\n",
    "import sklearn.model_selection as ms\n",
    "xtrain,  xtest,  ytrain,  ytest  =  ms.train_test_split(mnist.data,  mnist.target, \n",
    "train_size=0.7) \n",
    "print(xtrain, xtest, ytrain, ytest)"
   ]
  },
  {
   "cell_type": "code",
   "execution_count": null,
   "metadata": {},
   "outputs": [],
   "source": []
  },
  {
   "cell_type": "code",
   "execution_count": 9,
   "metadata": {
    "scrolled": false
   },
   "outputs": [],
   "source": [
    "import numpy as np\n",
    "n_neighbors =10\n",
    "indice=np.random.randint(70000, size=5000)\n",
    "data=[]\n",
    "target=[]\n",
    "for i in indice:\n",
    "    data.append(mnist.data[i])\n",
    "    target.append(mnist.target[i])\n",
    "\n",
    "\n"
   ]
  },
  {
   "cell_type": "code",
   "execution_count": 30,
   "metadata": {},
   "outputs": [
    {
     "name": "stdout",
     "output_type": "stream",
     "text": [
      "pourcentage: 0.1\n",
      "best score: 0.8295555555555556\n",
      "pourcentage: 0.2\n",
      "best score: 0.871\n",
      "pourcentage: 0.30000000000000004\n",
      "best score: 0.8954285714285715\n",
      "pourcentage: 0.4\n",
      "best score: 0.9146666666666666\n",
      "pourcentage: 0.5\n",
      "best score: 0.9152\n",
      "pourcentage: 0.6\n",
      "best score: 0.9275\n",
      "pourcentage: 0.7000000000000001\n",
      "best score: 0.9266666666666666\n",
      "pourcentage: 0.8\n",
      "best score: 0.939\n",
      "pourcentage: 0.9\n",
      "best score: 0.946\n"
     ]
    }
   ],
   "source": [
    "for pourcentage in np.arange(0.1,1,0.1):\n",
    "    print(\"pourcentage:\",pourcentage)\n",
    "    xtrain,  xtest,  ytrain,  ytest  =  ms.train_test_split(data, target, \n",
    "    train_size=pourcentage)\n",
    "    best = 0.0\n",
    "    for k in range(2,16):\n",
    "        clf = ng.KNeighborsClassifier (k)\n",
    "        clf.fit(xtrain, ytrain)\n",
    "        score = clf.score(xtest, ytest)\n",
    "        if(score > best):\n",
    "            best = score\n",
    "    print(\"best score:\", best)\n",
    "        "
   ]
  },
  {
   "cell_type": "code",
   "execution_count": 11,
   "metadata": {},
   "outputs": [
    {
     "name": "stdout",
     "output_type": "stream",
     "text": [
      "['5']\n",
      "5\n"
     ]
    }
   ],
   "source": [
    "predicted = clf.predict([xtest[3]])\n",
    "print(predicted)\n",
    "print(ytest[3])"
   ]
  },
  {
   "cell_type": "code",
   "execution_count": 12,
   "metadata": {},
   "outputs": [
    {
     "data": {
      "text/plain": [
       "0.913"
      ]
     },
     "execution_count": 12,
     "metadata": {},
     "output_type": "execute_result"
    }
   ],
   "source": [
    " clf.score(xtest, ytest)"
   ]
  },
  {
   "cell_type": "code",
   "execution_count": 27,
   "metadata": {
    "scrolled": true
   },
   "outputs": [
    {
     "name": "stdout",
     "output_type": "stream",
     "text": [
      "KFold(n_splits=2, random_state=None, shuffle=False)\n"
     ]
    }
   ],
   "source": [
    "\n",
    "print(fold)"
   ]
  },
  {
   "cell_type": "code",
   "execution_count": 31,
   "metadata": {},
   "outputs": [
    {
     "name": "stdout",
     "output_type": "stream",
     "text": [
      "Taille échantillon: 200\n",
      "score: 0.625\n",
      "Taille échantillon: 400\n",
      "score: 0.6625\n",
      "Taille échantillon: 600\n",
      "score: 0.7666666666666667\n",
      "Taille échantillon: 800\n",
      "score: 0.7875\n",
      "Taille échantillon: 1000\n",
      "score: 0.82\n",
      "Taille échantillon: 1200\n",
      "score: 0.8541666666666666\n",
      "Taille échantillon: 1400\n",
      "score: 0.85\n",
      "Taille échantillon: 1600\n",
      "score: 0.859375\n",
      "Taille échantillon: 1800\n",
      "score: 0.8777777777777778\n",
      "Taille échantillon: 2000\n",
      "score: 0.8875\n",
      "Taille échantillon: 2200\n",
      "score: 0.8931818181818182\n",
      "Taille échantillon: 2400\n",
      "score: 0.88125\n",
      "Taille échantillon: 2600\n",
      "score: 0.8826923076923077\n",
      "Taille échantillon: 2800\n",
      "score: 0.9017857142857143\n",
      "Taille échantillon: 3000\n",
      "score: 0.8983333333333333\n",
      "Taille échantillon: 3200\n",
      "score: 0.9125\n",
      "Taille échantillon: 3400\n",
      "score: 0.9044117647058824\n",
      "Taille échantillon: 3600\n",
      "score: 0.9013888888888889\n",
      "Taille échantillon: 3800\n",
      "score: 0.9013157894736842\n",
      "Taille échantillon: 4000\n",
      "score: 0.9075\n",
      "Taille échantillon: 4200\n",
      "score: 0.8988095238095238\n",
      "Taille échantillon: 4400\n",
      "score: 0.9147727272727273\n",
      "Taille échantillon: 4600\n",
      "score: 0.9217391304347826\n",
      "Taille échantillon: 4800\n",
      "score: 0.9135416666666667\n"
     ]
    }
   ],
   "source": [
    "import numpy as np\n",
    "n_neighbors =10\n",
    "size = 200\n",
    "for s in range(200, 5000, 200):\n",
    "    print(\"Taille échantillon:\",s)\n",
    "    indice=np.random.randint(70000, size=s)\n",
    "    data=[]\n",
    "    target=[]\n",
    "    for i in indice:\n",
    "        data.append(mnist.data[i])\n",
    "        target.append(mnist.target[i])\n",
    "    xtrain,  xtest,  ytrain,  ytest  =  ms.train_test_split(data, target, \n",
    "    train_size=0.8)\n",
    "    clf = ng.KNeighborsClassifier (k)\n",
    "    clf.fit(xtrain, ytrain)\n",
    "    score = clf.score(xtest, ytest)\n",
    "    print(\"score:\", score)\n",
    "\n",
    "\n"
   ]
  },
  {
   "cell_type": "code",
   "execution_count": 2,
   "metadata": {},
   "outputs": [
    {
     "ename": "NameError",
     "evalue": "name 'clf' is not defined",
     "output_type": "error",
     "traceback": [
      "\u001b[0;31m---------------------------------------------------------------------------\u001b[0m",
      "\u001b[0;31mNameError\u001b[0m                                 Traceback (most recent call last)",
      "\u001b[0;32m<ipython-input-2-44f736c02ed0>\u001b[0m in \u001b[0;36m<module>\u001b[0;34m\u001b[0m\n\u001b[1;32m      1\u001b[0m \u001b[0;31m#variation de la distance p\u001b[0m\u001b[0;34m\u001b[0m\u001b[0;34m\u001b[0m\u001b[0;34m\u001b[0m\u001b[0m\n\u001b[0;32m----> 2\u001b[0;31m \u001b[0mprecision1\u001b[0m\u001b[0;34m=\u001b[0m\u001b[0mclf\u001b[0m\u001b[0;34m.\u001b[0m\u001b[0mscore\u001b[0m\u001b[0;34m(\u001b[0m\u001b[0mxtest\u001b[0m\u001b[0;34m,\u001b[0m\u001b[0mytest\u001b[0m\u001b[0;34m)\u001b[0m\u001b[0;34m\u001b[0m\u001b[0;34m\u001b[0m\u001b[0m\n\u001b[0m\u001b[1;32m      3\u001b[0m \u001b[0mprecision2\u001b[0m\u001b[0;34m=\u001b[0m\u001b[0mclf2\u001b[0m\u001b[0;34m.\u001b[0m\u001b[0mscore\u001b[0m\u001b[0;34m(\u001b[0m\u001b[0mxtest\u001b[0m\u001b[0;34m,\u001b[0m\u001b[0mytest\u001b[0m\u001b[0;34m)\u001b[0m\u001b[0;34m\u001b[0m\u001b[0;34m\u001b[0m\u001b[0m\n",
      "\u001b[0;31mNameError\u001b[0m: name 'clf' is not defined"
     ]
    }
   ],
   "source": [
    "#variation de la distance p \n",
    "precision1=clf.score(xtest,ytest)\n",
    "precision2=clf2.score(xtest,ytest)"
   ]
  },
  {
   "cell_type": "code",
   "execution_count": 7,
   "metadata": {},
   "outputs": [
    {
     "name": "stdout",
     "output_type": "stream",
     "text": [
      "score test:  0.9401428571428572\n",
      "score train :  0.9837755102040816\n"
     ]
    }
   ],
   "source": [
    "#TP2\n",
    "#predict : prediction sur un échantillon\n",
    "#fit : entrainement\n",
    "#score : pourcentage de bonne réponse\n",
    "import sklearn.neural_network as nn\n",
    "import sklearn.neighbors as ng\n",
    "import sklearn.model_selection as ms\n",
    "\n",
    "xtrain,  xtest,  ytrain,  ytest  =  ms.train_test_split(mnist.data,  mnist.target, \n",
    "train_size=0.7) \n",
    "#hidden_layer : nombre de neurone de chaque couche cachée\n",
    "clf=nn.MLPClassifier(hidden_layer_sizes=(50)).fit(xtrain,ytrain)\n",
    "print(\"score test: \", clf.score(xtest, ytest))\n",
    "print(\"score train : \", clf.score(xtrain, ytrain))\n"
   ]
  },
  {
   "cell_type": "code",
   "execution_count": 8,
   "metadata": {},
   "outputs": [
    {
     "name": "stdout",
     "output_type": "stream",
     "text": [
      "Test : \n",
      "Valeur obtenue :  ['5' '4' '8' '5' '7'] Valeur attendue :  ['5' '4' '8' '5' '7']\n",
      "Train : \n",
      "Valeur obtenue :  ['1' '5' '1' '5' '5'] Valeur attendue :  ['1' '5' '1' '5' '5']\n"
     ]
    }
   ],
   "source": [
    "print(\"Test : \")\n",
    "print(\"Valeur obtenue : \", clf.predict(xtest[:5, :]), \"Valeur attendue : \", ytest[:5] )\n",
    "print(\"Train : \")\n",
    "print(\"Valeur obtenue : \", clf.predict(xtrain[:5, :]), \"Valeur attendue : \", ytrain[:5] )"
   ]
  },
  {
   "cell_type": "code",
   "execution_count": 9,
   "metadata": {},
   "outputs": [
    {
     "name": "stdout",
     "output_type": "stream",
     "text": [
      "precision_score =  0.9401428571428572\n"
     ]
    }
   ],
   "source": [
    "from sklearn.metrics import precision_score\n",
    "#Calculate metrics globally by counting the total true positives, false negatives and false positives\n",
    "ypredict=clf.predict(xtest)\n",
    "p=precision_score(ytest, ypredict,average='micro')\n",
    "print (\"precision_score = \", p)\n",
    "\n",
    "#On obtient le même résultat que pour la méthode de calcul de score précédente"
   ]
  },
  {
   "cell_type": "code",
   "execution_count": 10,
   "metadata": {},
   "outputs": [
    {
     "name": "stdout",
     "output_type": "stream",
     "text": [
      "courgette\n",
      "Couche  1\n",
      "score test:  0.9471428571428572\n",
      "score train :  0.9866122448979592\n",
      "Temps mis :  41.79184174537659\n",
      "Couche  2\n",
      "score test:  0.9602380952380952\n",
      "score train :  0.9912040816326531\n",
      "Temps mis :  32.3967182636261\n",
      "Couche  3\n",
      "score test:  0.9613333333333334\n",
      "score train :  0.9934081632653061\n",
      "Temps mis :  42.9573609828949\n",
      "Couche  4\n",
      "score test:  0.9606190476190476\n",
      "score train :  0.9955918367346939\n",
      "Temps mis :  42.936901807785034\n",
      "Couche  5\n",
      "score test:  0.9683333333333334\n",
      "score train :  0.9978571428571429\n",
      "Temps mis :  45.508612394332886\n",
      "Couche  6\n",
      "score test:  0.966952380952381\n",
      "score train :  0.9949591836734694\n",
      "Temps mis :  21.190398931503296\n",
      "Couche  7\n",
      "score test:  0.966047619047619\n",
      "score train :  0.996265306122449\n",
      "Temps mis :  40.211678981781006\n",
      "Couche  8\n",
      "score test:  0.9665238095238096\n",
      "score train :  0.9932857142857143\n",
      "Temps mis :  56.24174404144287\n",
      "Couche  9\n",
      "score test:  0.9687619047619047\n",
      "score train :  0.995734693877551\n",
      "Temps mis :  54.95205497741699\n",
      "Couche  10\n",
      "score test:  0.9691904761904762\n",
      "score train :  0.9966938775510205\n",
      "Temps mis :  40.967551708221436\n",
      "Couche  11\n",
      "score test:  0.9673333333333334\n",
      "score train :  0.9940204081632653\n",
      "Temps mis :  71.8311755657196\n",
      "Couche  12\n",
      "score test:  0.9706666666666667\n",
      "score train :  0.9975102040816326\n",
      "Temps mis :  67.36236715316772\n",
      "Couche  13\n",
      "score test:  0.9719047619047619\n",
      "score train :  0.9970816326530613\n",
      "Temps mis :  71.43853974342346\n",
      "Couche  14\n",
      "score test:  0.9675714285714285\n",
      "score train :  0.9952244897959184\n",
      "Temps mis :  47.3707435131073\n",
      "Couche  15\n",
      "score test:  0.9679047619047619\n",
      "score train :  0.9932448979591837\n",
      "Temps mis :  44.2354519367218\n",
      "Couche  16\n",
      "score test:  0.9707142857142858\n",
      "score train :  0.9977551020408163\n",
      "Temps mis :  78.78320097923279\n",
      "Couche  17\n",
      "score test:  0.9718095238095238\n",
      "score train :  0.9979183673469387\n",
      "Temps mis :  122.89933204650879\n",
      "Couche  18\n",
      "score test:  0.9662857142857143\n",
      "score train :  0.9933673469387755\n",
      "Temps mis :  41.56411075592041\n",
      "Couche  19\n",
      "score test:  0.9727619047619047\n",
      "score train :  0.9972244897959184\n",
      "Temps mis :  90.2031409740448\n",
      "Couche  20\n",
      "score test:  0.9705714285714285\n",
      "score train :  0.9956122448979592\n",
      "Temps mis :  103.39493918418884\n"
     ]
    }
   ],
   "source": [
    "import time\n",
    "nb_neurons =()\n",
    "print(\"courgette\")\n",
    "\n",
    "for layer in range(20):\n",
    "    start=time.time()\n",
    "    nb_neurons+=(50,)\n",
    "    print(\"Couche \",layer+1)\n",
    "    clf=nn.MLPClassifier(hidden_layer_sizes=(nb_neurons)).fit(xtrain,ytrain)\n",
    "    end=time.time()\n",
    "    print(\"score test: \", clf.score(xtest, ytest))\n",
    "    print(\"score train : \", clf.score(xtrain, ytrain))\n",
    "    print(\"Temps mis : \", end-start)\n",
    "    \n",
    "#plus on ajoute, plus on a un bon score mais le temps pour réaliser chaque prédiction est extrêmement long"
   ]
  },
  {
   "cell_type": "code",
   "execution_count": 13,
   "metadata": {},
   "outputs": [
    {
     "name": "stdout",
     "output_type": "stream",
     "text": [
      "courgette\n",
      "Nombre de couches: 5\n",
      "Couche: (68, 61, 143, 224, 195)\n",
      "score test: 0.9725238095238096\n",
      "score train: 0.9981020408163266\n",
      "Temps mis: 59.75471258163452\n",
      "Erreur: 0.027476190476190432\n",
      "Nombre de couches: 5\n",
      "Couche: (209, 284, 55, 106, 29)\n",
      "score test: 0.9748571428571429\n",
      "score train: 0.9971020408163266\n",
      "Temps mis: 107.97735166549683\n",
      "Erreur: 0.025142857142857133\n",
      "Nombre de couches: 5\n",
      "Couche: (108, 147, 158, 173, 146)\n",
      "score test: 0.9722857142857143\n",
      "score train: 0.995061224489796\n",
      "Temps mis: 66.8867712020874\n",
      "Erreur: 0.02771428571428569\n",
      "Nombre de couches: 5\n",
      "Couche: (266, 51, 207, 169, 261)\n",
      "score test: 0.9752857142857143\n",
      "score train: 0.9975102040816326\n",
      "Temps mis: 137.84904885292053\n",
      "Erreur: 0.02471428571428569\n",
      "Nombre de couches: 5\n",
      "Couche: (81, 289, 98, 221, 267)\n",
      "score test: 0.973\n",
      "score train: 0.9972857142857143\n",
      "Temps mis: 113.67105221748352\n",
      "Erreur: 0.027000000000000024\n"
     ]
    }
   ],
   "source": [
    "from sklearn.metrics  import zero_one_loss\n",
    "import time\n",
    "import random\n",
    "print(\"courgette\")\n",
    "for model in range(5):\n",
    "    nb_neurons=()\n",
    "    nb_layer = 5\n",
    "    print(\"Nombre de couches:\", nb_layer)\n",
    "    for neurons in range(nb_layer):\n",
    "        nb_neurons+=(random.randint(10,300),)\n",
    "    print(\"Couche:\",nb_neurons)\n",
    "    start=time.time()\n",
    "    clf=nn.MLPClassifier(hidden_layer_sizes=(nb_neurons)).fit(xtrain,ytrain)\n",
    "    end=time.time()\n",
    "    print(\"score test:\", clf.score(xtest, ytest))\n",
    "    print(\"score train:\", clf.score(xtrain, ytrain))\n",
    "    print(\"Temps mis:\", end-start)\n",
    "    ypred=clf.predict(xtest)\n",
    "    print(\"Erreur:\", zero_one_loss(ytest, ypred))\n",
    "    \n",
    "#plus on ajoute, plus on a un bon score mais le temps pour réaliser chaque prédiction est extrêmement long"
   ]
  },
  {
   "cell_type": "code",
   "execution_count": 4,
   "metadata": {
    "scrolled": true
   },
   "outputs": [
    {
     "name": "stdout",
     "output_type": "stream",
     "text": [
      "Temps:  14.081294536590576\n",
      "score test:  0.9035714285714286\n",
      "score train :  0.9241020408163265\n",
      "Erreur: 0.09642857142857142\n"
     ]
    },
    {
     "name": "stderr",
     "output_type": "stream",
     "text": [
      "/usr/local/insa/anaconda/lib/python3.8/site-packages/sklearn/neural_network/_multilayer_perceptron.py:500: ConvergenceWarning: lbfgs failed to converge (status=1):\n",
      "STOP: TOTAL NO. of ITERATIONS REACHED LIMIT.\n",
      "\n",
      "Increase the number of iterations (max_iter) or scale the data as shown in:\n",
      "    https://scikit-learn.org/stable/modules/preprocessing.html\n",
      "  self.n_iter_ = _check_optimize_result(\"lbfgs\", opt_res, self.max_iter)\n"
     ]
    }
   ],
   "source": [
    "from sklearn.metrics  import zero_one_loss\n",
    "import time\n",
    "#max_iter à 200 qui ne permet pas au modèle de converger, \n",
    "#ordinateur pas assez puissant pour faire converger le modèle en peu de temps\n",
    "start=time.time()\n",
    "clf=nn.MLPClassifier(hidden_layer_sizes=(50),solver='lbfgs', activation='identity').fit(xtrain,ytrain)\n",
    "end=time.time()\n",
    "print(\"Temps: \", end-start)\n",
    "print(\"score test: \", clf.score(xtest, ytest))\n",
    "print(\"score train : \", clf.score(xtrain, ytrain))\n",
    "ypred=clf.predict(xtest)\n",
    "print(\"Erreur:\", zero_one_loss(ytest, ypred))\n",
    "\n",
    "#adam : plus efficace"
   ]
  },
  {
   "cell_type": "code",
   "execution_count": 5,
   "metadata": {},
   "outputs": [
    {
     "name": "stderr",
     "output_type": "stream",
     "text": [
      "/usr/local/insa/anaconda/lib/python3.8/site-packages/sklearn/neural_network/_multilayer_perceptron.py:500: ConvergenceWarning: lbfgs failed to converge (status=1):\n",
      "STOP: TOTAL NO. of ITERATIONS REACHED LIMIT.\n",
      "\n",
      "Increase the number of iterations (max_iter) or scale the data as shown in:\n",
      "    https://scikit-learn.org/stable/modules/preprocessing.html\n",
      "  self.n_iter_ = _check_optimize_result(\"lbfgs\", opt_res, self.max_iter)\n"
     ]
    },
    {
     "name": "stdout",
     "output_type": "stream",
     "text": [
      "Temps:  23.843300819396973\n",
      "score test:  0.9227619047619048\n",
      "score train :  0.9439183673469388\n",
      "Erreur: 0.07723809523809522\n"
     ]
    }
   ],
   "source": [
    "from sklearn.metrics  import zero_one_loss\n",
    "import time\n",
    "#max_iter à 200 qui ne permet pas au modèle de converger, \n",
    "#ordinateur pas assez puissant pour faire converger le modèle en peu de temps\n",
    "start=time.time()\n",
    "clf=nn.MLPClassifier(hidden_layer_sizes=(50),solver='lbfgs', activation='logistic').fit(xtrain,ytrain)\n",
    "end=time.time()\n",
    "print(\"Temps: \", end-start)\n",
    "print(\"score test: \", clf.score(xtest, ytest))\n",
    "print(\"score train : \", clf.score(xtrain, ytrain))\n",
    "ypred=clf.predict(xtest)\n",
    "print(\"Erreur:\", zero_one_loss(ytest, ypred))\n",
    "\n",
    "#adam : plus efficace"
   ]
  },
  {
   "cell_type": "code",
   "execution_count": 6,
   "metadata": {},
   "outputs": [
    {
     "name": "stdout",
     "output_type": "stream",
     "text": [
      "Temps:  17.554316520690918\n",
      "score test:  0.7613809523809524\n",
      "score train :  0.7708367346938776\n",
      "Erreur: 0.23861904761904762\n"
     ]
    },
    {
     "name": "stderr",
     "output_type": "stream",
     "text": [
      "/usr/local/insa/anaconda/lib/python3.8/site-packages/sklearn/neural_network/_multilayer_perceptron.py:500: ConvergenceWarning: lbfgs failed to converge (status=1):\n",
      "STOP: TOTAL NO. of ITERATIONS REACHED LIMIT.\n",
      "\n",
      "Increase the number of iterations (max_iter) or scale the data as shown in:\n",
      "    https://scikit-learn.org/stable/modules/preprocessing.html\n",
      "  self.n_iter_ = _check_optimize_result(\"lbfgs\", opt_res, self.max_iter)\n"
     ]
    }
   ],
   "source": [
    "from sklearn.metrics  import zero_one_loss\n",
    "import time\n",
    "#max_iter à 200 qui ne permet pas au modèle de converger, \n",
    "#ordinateur pas assez puissant pour faire converger le modèle en peu de temps\n",
    "start=time.time()\n",
    "clf=nn.MLPClassifier(hidden_layer_sizes=(50),solver='lbfgs', activation='relu').fit(xtrain,ytrain)\n",
    "end=time.time()\n",
    "print(\"Temps: \", end-start)\n",
    "print(\"score test: \", clf.score(xtest, ytest))\n",
    "print(\"score train : \", clf.score(xtrain, ytrain))\n",
    "ypred=clf.predict(xtest)\n",
    "print(\"Erreur:\", zero_one_loss(ytest, ypred))\n",
    "\n",
    "#adam : plus efficace"
   ]
  },
  {
   "cell_type": "code",
   "execution_count": 7,
   "metadata": {},
   "outputs": [
    {
     "name": "stdout",
     "output_type": "stream",
     "text": [
      "Temps:  19.401437759399414\n",
      "score test:  0.9250952380952381\n",
      "score train :  0.9448775510204082\n",
      "Erreur: 0.07490476190476192\n"
     ]
    },
    {
     "name": "stderr",
     "output_type": "stream",
     "text": [
      "/usr/local/insa/anaconda/lib/python3.8/site-packages/sklearn/neural_network/_multilayer_perceptron.py:500: ConvergenceWarning: lbfgs failed to converge (status=1):\n",
      "STOP: TOTAL NO. of ITERATIONS REACHED LIMIT.\n",
      "\n",
      "Increase the number of iterations (max_iter) or scale the data as shown in:\n",
      "    https://scikit-learn.org/stable/modules/preprocessing.html\n",
      "  self.n_iter_ = _check_optimize_result(\"lbfgs\", opt_res, self.max_iter)\n"
     ]
    }
   ],
   "source": [
    "from sklearn.metrics  import zero_one_loss\n",
    "import time\n",
    "#max_iter à 200 qui ne permet pas au modèle de converger, \n",
    "#ordinateur pas assez puissant pour faire converger le modèle en peu de temps\n",
    "start=time.time()\n",
    "clf=nn.MLPClassifier(hidden_layer_sizes=(50),solver='lbfgs', activation='tanh').fit(xtrain,ytrain)\n",
    "end=time.time()\n",
    "print(\"Temps: \", end-start)\n",
    "print(\"score test: \", clf.score(xtest, ytest))\n",
    "print(\"score train : \", clf.score(xtrain, ytrain))\n",
    "ypred=clf.predict(xtest)\n",
    "print(\"Erreur:\", zero_one_loss(ytest, ypred))\n",
    "\n",
    "#adam : plus efficace"
   ]
  },
  {
   "cell_type": "code",
   "execution_count": 8,
   "metadata": {},
   "outputs": [
    {
     "name": "stderr",
     "output_type": "stream",
     "text": [
      "/usr/local/insa/anaconda/lib/python3.8/site-packages/sklearn/utils/extmath.py:152: RuntimeWarning: overflow encountered in matmul\n",
      "  ret = a @ b\n",
      "/usr/local/insa/anaconda/lib/python3.8/site-packages/sklearn/neural_network/_base.py:66: RuntimeWarning: overflow encountered in subtract\n",
      "  tmp = X - X.max(axis=1)[:, np.newaxis]\n",
      "/usr/local/insa/anaconda/lib/python3.8/site-packages/sklearn/neural_network/_base.py:66: RuntimeWarning: invalid value encountered in subtract\n",
      "  tmp = X - X.max(axis=1)[:, np.newaxis]\n"
     ]
    },
    {
     "name": "stdout",
     "output_type": "stream",
     "text": [
      "Temps:  38.54643678665161\n",
      "score test:  0.0988095238095238\n",
      "score train :  0.09853061224489795\n",
      "Erreur: 0.9011904761904762\n"
     ]
    },
    {
     "name": "stderr",
     "output_type": "stream",
     "text": [
      "/usr/local/insa/anaconda/lib/python3.8/site-packages/sklearn/neural_network/_multilayer_perceptron.py:614: ConvergenceWarning: Stochastic Optimizer: Maximum iterations (200) reached and the optimization hasn't converged yet.\n",
      "  warnings.warn(\n"
     ]
    }
   ],
   "source": [
    "start=time.time()\n",
    "clf=nn.MLPClassifier(hidden_layer_sizes=(50),solver='sgd', activation='identity').fit(xtrain,ytrain)\n",
    "end=time.time()\n",
    "print(\"Temps: \", end-start)\n",
    "print(\"score test: \", clf.score(xtest, ytest))\n",
    "print(\"score train : \", clf.score(xtrain, ytrain))\n",
    "ypred=clf.predict(xtest)\n",
    "print(\"Erreur:\", zero_one_loss(ytest, ypred))"
   ]
  },
  {
   "cell_type": "code",
   "execution_count": 9,
   "metadata": {},
   "outputs": [
    {
     "name": "stdout",
     "output_type": "stream",
     "text": [
      "Temps:  42.04132008552551\n",
      "score test:  0.9461428571428572\n",
      "score train :  0.9827755102040816\n",
      "Erreur: 0.053857142857142826\n"
     ]
    },
    {
     "name": "stderr",
     "output_type": "stream",
     "text": [
      "/usr/local/insa/anaconda/lib/python3.8/site-packages/sklearn/neural_network/_multilayer_perceptron.py:614: ConvergenceWarning: Stochastic Optimizer: Maximum iterations (200) reached and the optimization hasn't converged yet.\n",
      "  warnings.warn(\n"
     ]
    }
   ],
   "source": [
    "start=time.time()\n",
    "clf=nn.MLPClassifier(hidden_layer_sizes=(50),solver='sgd', activation='logistic').fit(xtrain,ytrain)\n",
    "end=time.time()\n",
    "print(\"Temps: \", end-start)\n",
    "print(\"score test: \", clf.score(xtest, ytest))\n",
    "print(\"score train : \", clf.score(xtrain, ytrain))\n",
    "ypred=clf.predict(xtest)\n",
    "print(\"Erreur:\", zero_one_loss(ytest, ypred))"
   ]
  },
  {
   "cell_type": "code",
   "execution_count": 10,
   "metadata": {},
   "outputs": [
    {
     "name": "stdout",
     "output_type": "stream",
     "text": [
      "Temps:  36.08208656311035\n",
      "score test:  0.8957142857142857\n",
      "score train :  0.9223061224489796\n",
      "Erreur: 0.10428571428571431\n"
     ]
    }
   ],
   "source": [
    "start=time.time()\n",
    "clf=nn.MLPClassifier(hidden_layer_sizes=(50),solver='sgd', activation='relu').fit(xtrain,ytrain)\n",
    "end=time.time()\n",
    "print(\"Temps: \", end-start)\n",
    "print(\"score test: \", clf.score(xtest, ytest))\n",
    "print(\"score train : \", clf.score(xtrain, ytrain))\n",
    "ypred=clf.predict(xtest)\n",
    "print(\"Erreur:\", zero_one_loss(ytest, ypred))"
   ]
  },
  {
   "cell_type": "code",
   "execution_count": 11,
   "metadata": {},
   "outputs": [
    {
     "name": "stdout",
     "output_type": "stream",
     "text": [
      "Temps:  25.428038358688354\n",
      "score test:  0.9378095238095238\n",
      "score train :  0.9510408163265306\n",
      "Erreur: 0.06219047619047624\n"
     ]
    }
   ],
   "source": [
    "start=time.time()\n",
    "clf=nn.MLPClassifier(hidden_layer_sizes=(50),solver='sgd', activation='tanh').fit(xtrain,ytrain)\n",
    "end=time.time()\n",
    "print(\"Temps: \", end-start)\n",
    "print(\"score test: \", clf.score(xtest, ytest))\n",
    "print(\"score train : \", clf.score(xtrain, ytrain))\n",
    "ypred=clf.predict(xtest)\n",
    "print(\"Erreur:\", zero_one_loss(ytest, ypred))"
   ]
  },
  {
   "cell_type": "code",
   "execution_count": 17,
   "metadata": {},
   "outputs": [
    {
     "name": "stdout",
     "output_type": "stream",
     "text": [
      "Temps:  8.634546995162964\n",
      "score test:  0.8990952380952381\n",
      "score train :  0.9153265306122449\n",
      "Erreur: 0.10090476190476194\n"
     ]
    }
   ],
   "source": [
    "start=time.time()\n",
    "clf=nn.MLPClassifier(hidden_layer_sizes=(50),solver='adam',activation='identity').fit(xtrain,ytrain)\n",
    "end=time.time()\n",
    "print(\"Temps: \", end-start)\n",
    "print(\"score test: \", clf.score(xtest, ytest))\n",
    "print(\"score train : \", clf.score(xtrain, ytrain))\n",
    "ypred=clf.predict(xtest)\n",
    "print(\"Erreur:\", zero_one_loss(ytest, ypred))\n",
    "#adam qui est le meilleur en terme de temps avec l'identity et très peu d'erreur\n",
    "#a faire, il faudra modifier l2 sur celui ci "
   ]
  },
  {
   "cell_type": "code",
   "execution_count": 12,
   "metadata": {},
   "outputs": [
    {
     "name": "stdout",
     "output_type": "stream",
     "text": [
      "Temps:  16.870668411254883\n",
      "score test:  0.9392380952380952\n",
      "score train :  0.9459591836734694\n",
      "Erreur: 0.060761904761904795\n"
     ]
    }
   ],
   "source": [
    "start=time.time()\n",
    "clf=nn.MLPClassifier(hidden_layer_sizes=(50),solver='adam',activation='logistic').fit(xtrain,ytrain)\n",
    "end=time.time()\n",
    "print(\"Temps: \", end-start)\n",
    "print(\"score test: \", clf.score(xtest, ytest))\n",
    "print(\"score train : \", clf.score(xtrain, ytrain))\n",
    "ypred=clf.predict(xtest)\n",
    "print(\"Erreur:\", zero_one_loss(ytest, ypred))"
   ]
  },
  {
   "cell_type": "code",
   "execution_count": 13,
   "metadata": {},
   "outputs": [
    {
     "name": "stdout",
     "output_type": "stream",
     "text": [
      "Temps:  27.85966920852661\n",
      "score test:  0.9410952380952381\n",
      "score train :  0.9489183673469388\n",
      "Erreur: 0.058904761904761904\n"
     ]
    }
   ],
   "source": [
    "start=time.time()\n",
    "clf=nn.MLPClassifier(hidden_layer_sizes=(50),solver='adam',activation='tanh').fit(xtrain,ytrain)\n",
    "end=time.time()\n",
    "print(\"Temps: \", end-start)\n",
    "print(\"score test: \", clf.score(xtest, ytest))\n",
    "print(\"score train : \", clf.score(xtrain, ytrain))\n",
    "ypred=clf.predict(xtest)\n",
    "print(\"Erreur:\", zero_one_loss(ytest, ypred))"
   ]
  },
  {
   "cell_type": "code",
   "execution_count": 14,
   "metadata": {},
   "outputs": [
    {
     "name": "stdout",
     "output_type": "stream",
     "text": [
      "Temps:  31.92744517326355\n",
      "score test:  0.9503809523809523\n",
      "score train :  0.9877959183673469\n",
      "Erreur: 0.049619047619047674\n"
     ]
    }
   ],
   "source": [
    "Taux de réussitestart=time.time()\n",
    "clf=nn.MLPClassifier(hidden_layer_sizes=(50),solver='adam',activation='relu').fit(xtrain,ytrain)\n",
    "end=time.time()\n",
    "print(\"Temps: \", end-start)\n",
    "print(\"score test: \", clf.score(xtest, ytest))\n",
    "print(\"score train : \", clf.score(xtrain, ytrain))\n",
    "ypred=clf.predict(xtest)\n",
    "print(\"Erreur:\", zero_one_loss(ytest, ypred))"
   ]
  },
  {
   "cell_type": "code",
   "execution_count": 26,
   "metadata": {},
   "outputs": [
    {
     "name": "stdout",
     "output_type": "stream",
     "text": [
      "L2:  0.0001\n",
      "Temps:  18.88581919670105\n",
      "score test:  0.9043809523809524\n",
      "score train :  0.9176938775510204\n",
      "Erreur: 0.0956190476190476\n",
      "L2:  0.10010000000000001\n",
      "Temps:  125.60849332809448\n",
      "score test:  0.9073333333333333\n",
      "score train :  0.9224897959183673\n",
      "Erreur: 0.09266666666666667\n",
      "L2:  0.2001\n",
      "Temps:  137.0887804031372\n",
      "score test:  0.912047619047619\n",
      "score train :  0.9250204081632653\n",
      "Erreur: 0.087952380952381\n",
      "L2:  0.30010000000000003\n",
      "Temps:  107.7423505783081\n",
      "score test:  0.9074761904761904\n",
      "score train :  0.9200408163265306\n",
      "Erreur: 0.09252380952380956\n",
      "L2:  0.4001\n",
      "Temps:  131.1472578048706\n",
      "score test:  0.8955238095238095\n",
      "score train :  0.9095918367346939\n",
      "Erreur: 0.1044761904761905\n",
      "L2:  0.5001\n",
      "Temps:  153.55308151245117\n",
      "score test:  0.8989047619047619\n",
      "score train :  0.9139591836734694\n",
      "Erreur: 0.10109523809523813\n",
      "L2:  0.6001000000000001\n",
      "Temps:  103.62676119804382\n",
      "score test:  0.9099047619047619\n",
      "score train :  0.9215918367346939\n",
      "Erreur: 0.09009523809523812\n",
      "L2:  0.7001000000000001\n",
      "Temps:  91.73809003829956\n",
      "score test:  0.9046666666666666\n",
      "score train :  0.9166734693877551\n",
      "Erreur: 0.09533333333333338\n",
      "L2:  0.8001\n",
      "Temps:  138.22765111923218\n",
      "score test:  0.9094285714285715\n",
      "score train :  0.9202448979591836\n",
      "Erreur: 0.09057142857142852\n",
      "L2:  0.9001\n",
      "Temps:  134.31147122383118\n",
      "score test:  0.9065714285714286\n",
      "score train :  0.9177755102040817\n",
      "Erreur: 0.09342857142857142\n"
     ]
    }
   ],
   "source": [
    "import numpy as np\n",
    "for l2 in np.arange(0.0001, 1, 0.1):\n",
    "    print(\"L2: \", l2)\n",
    "    start=time.time()\n",
    "    clf=nn.MLPClassifier(hidden_layer_sizes=(50,50,50,50,50,50,50,50,50,50,50,50,50,50,50,50,50,50,50,50,50),solver='adam',activation='identity', alpha=l2).fit(xtrain,ytrain)\n",
    "    end=time.time()\n",
    "    print(\"Temps: \", end-start)\n",
    "    print(\"score test: \", clf.score(xtest, ytest))\n",
    "    print(\"score train : \", clf.score(xtrain, ytrain))\n",
    "    ypred=clf.predict(xtest)\n",
    "    print(\"Erreur:\", zero_one_loss(ytest, ypred))\n",
    "    #adam qui est le meilleur en terme de temps avec l'identity et très peu d'erreur\n",
    "    #alpha c'est la pénalité appliqué aux modèles qui sont trop grands, si on fait baisser alpha, \n",
    "    #on aura une précision plus grande mais un modèle énorme et donc plus grand"
   ]
  },
  {
   "cell_type": "code",
   "execution_count": null,
   "metadata": {},
   "outputs": [],
   "source": []
  }
 ],
 "metadata": {
  "kernelspec": {
   "display_name": "Python 3",
   "language": "python",
   "name": "python3"
  },
  "language_info": {
   "codemirror_mode": {
    "name": "ipython",
    "version": 3
   },
   "file_extension": ".py",
   "mimetype": "text/x-python",
   "name": "python",
   "nbconvert_exporter": "python",
   "pygments_lexer": "ipython3",
   "version": "3.8.10"
  }
 },
 "nbformat": 4,
 "nbformat_minor": 4
}
